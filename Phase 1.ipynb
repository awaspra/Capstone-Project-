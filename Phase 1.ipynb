{
 "cells": [
  {
   "cell_type": "code",
   "execution_count": null,
   "id": "070b5c75",
   "metadata": {},
   "outputs": [],
   "source": [
    "Phase 1"
   ]
  },
  {
   "cell_type": "code",
   "execution_count": null,
   "id": "1d8856b1",
   "metadata": {},
   "outputs": [],
   "source": [
    "Sites used to collect Data:"
   ]
  },
  {
   "cell_type": "code",
   "execution_count": null,
   "id": "1dfe4ba8",
   "metadata": {},
   "outputs": [],
   "source": [
    "https://www.census2011.co.in/sexratio.php\n",
    "https://data.gov.in/resource/stateuts-wise-literacy-rates-census-2001-and-2011\n",
    "https://data.gov.in/search?title=crime\n",
    "https://www.indiaonlinepages.com/population/literacy-rate-in-india.html\n",
    "https://www.wbhealth.gov.in/other_files/2007/14_5.html"
   ]
  },
  {
   "cell_type": "code",
   "execution_count": null,
   "id": "afcf193a",
   "metadata": {},
   "outputs": [],
   "source": []
  },
  {
   "cell_type": "code",
   "execution_count": null,
   "id": "eba15c86",
   "metadata": {},
   "outputs": [],
   "source": []
  }
 ],
 "metadata": {
  "kernelspec": {
   "display_name": "Python 3 (ipykernel)",
   "language": "python",
   "name": "python3"
  },
  "language_info": {
   "codemirror_mode": {
    "name": "ipython",
    "version": 3
   },
   "file_extension": ".py",
   "mimetype": "text/x-python",
   "name": "python",
   "nbconvert_exporter": "python",
   "pygments_lexer": "ipython3",
   "version": "3.11.4"
  }
 },
 "nbformat": 4,
 "nbformat_minor": 5
}
